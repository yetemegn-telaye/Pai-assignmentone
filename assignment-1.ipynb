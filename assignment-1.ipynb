{
 "cells": [
  {
   "cell_type": "markdown",
   "id": "6c5e390a-53ec-4f53-bba0-4ed0b4fdf75c",
   "metadata": {},
   "source": [
    "# Question 1 Longest increasing subsequence using binary search"
   ]
  },
  {
   "cell_type": "code",
   "execution_count": 1,
   "id": "e4ac7b76-8c45-406a-8c33-88825e14b7de",
   "metadata": {},
   "outputs": [
    {
     "name": "stdout",
     "output_type": "stream",
     "text": [
      "Length of LIS (Binary Search): 6\n"
     ]
    }
   ],
   "source": [
    "import bisect\n",
    "\n",
    "def length_of_lis_bs(arr):\n",
    "    if not arr:\n",
    "        return 0\n",
    "\n",
    "    sub = []\n",
    "    for num in arr:\n",
    "        idx = bisect.bisect_left(sub, num) \n",
    "        if idx == len(sub):\n",
    "            sub.append(num)  \n",
    "        else:\n",
    "            sub[idx] = num \n",
    "\n",
    "    return len(sub)\n",
    "\n",
    "arr = [10, 22, 9, 33, 21, 50, 41, 60, 80]\n",
    "print(\"Length of LIS (Binary Search):\", length_of_lis_bs(arr))"
   ]
  },
  {
   "cell_type": "markdown",
   "id": "f559d850-462e-47f2-b7d7-2e8938a5d827",
   "metadata": {},
   "source": [
    "## Question 2 Sudoku Solver using Backtracking"
   ]
  },
  {
   "cell_type": "code",
   "execution_count": 3,
   "id": "9484ee56-92de-4953-bf64-08ee4c730b42",
   "metadata": {},
   "outputs": [
    {
     "name": "stdout",
     "output_type": "stream",
     "text": [
      "[5, 3, 4, 6, 7, 8, 9, 1, 2]\n",
      "[6, 7, 2, 1, 9, 5, 3, 4, 8]\n",
      "[1, 9, 8, 3, 4, 2, 5, 6, 7]\n",
      "[8, 5, 9, 7, 6, 1, 4, 2, 3]\n",
      "[4, 2, 6, 8, 5, 3, 7, 9, 1]\n",
      "[7, 1, 3, 9, 2, 4, 8, 5, 6]\n",
      "[9, 6, 1, 5, 3, 7, 2, 8, 4]\n",
      "[2, 8, 7, 4, 1, 9, 6, 3, 5]\n",
      "[3, 4, 5, 2, 8, 6, 1, 7, 9]\n"
     ]
    }
   ],
   "source": [
    "def is_valid(board, row, col, num):\n",
    "    \"\"\"Check if placing num at board[row][col] is valid\"\"\"\n",
    "    for i in range(9):\n",
    "        if board[row][i] == num or board[i][col] == num:\n",
    "            return False\n",
    "\n",
    "   \n",
    "    start_row, start_col = (row // 3) * 3, (col // 3) * 3\n",
    "    for i in range(3):\n",
    "        for j in range(3):\n",
    "            if board[start_row + i][start_col + j] == num:\n",
    "                return False\n",
    "\n",
    "    return True\n",
    "\n",
    "def find_empty_cell(board):\n",
    "    \"\"\"Find an empty cell in the Sudoku board\"\"\"\n",
    "    for i in range(9):\n",
    "        for j in range(9):\n",
    "            if board[i][j] == 0:\n",
    "                return (i, j)\n",
    "    return None \n",
    "\n",
    "def solve_sudoku(board):\n",
    "    \"\"\"Solves the Sudoku board using backtracking\"\"\"\n",
    "    empty_cell = find_empty_cell(board)\n",
    "    if not empty_cell:\n",
    "        return True  \n",
    "\n",
    "    row, col = empty_cell\n",
    "\n",
    "    for num in range(1, 10):\n",
    "        if is_valid(board, row, col, num):\n",
    "            board[row][col] = num\n",
    "\n",
    "            if solve_sudoku(board):\n",
    "                return True\n",
    "\n",
    "            board[row][col] = 0 \n",
    "\n",
    "    return False \n",
    "\n",
    "board = [\n",
    "    [5, 3, 0, 0, 7, 0, 0, 0, 0],\n",
    "    [6, 0, 0, 1, 9, 5, 0, 0, 0],\n",
    "    [0, 9, 8, 0, 0, 0, 0, 6, 0],\n",
    "    [8, 0, 0, 0, 6, 0, 0, 0, 3],\n",
    "    [4, 0, 0, 8, 0, 3, 0, 0, 1],\n",
    "    [7, 0, 0, 0, 2, 0, 0, 0, 6],\n",
    "    [0, 6, 0, 0, 0, 0, 2, 8, 0],\n",
    "    [0, 0, 0, 4, 1, 9, 0, 0, 5],\n",
    "    [0, 0, 0, 0, 8, 0, 0, 7, 9]\n",
    "]\n",
    "\n",
    "if solve_sudoku(board):\n",
    "    for row in board:\n",
    "        print(row)\n",
    "else:\n",
    "    print(\"No solution exists\")\n"
   ]
  },
  {
   "cell_type": "markdown",
   "id": "3efbcac6-a2e8-4064-8a99-7838e6d18f80",
   "metadata": {},
   "source": [
    "# Question 3 N Queens Problem"
   ]
  },
  {
   "cell_type": "code",
   "execution_count": 4,
   "id": "622edc8b-a797-4987-90f4-84fcfb711b50",
   "metadata": {},
   "outputs": [
    {
     "name": "stdout",
     "output_type": "stream",
     "text": [
      "One valid solution:\n",
      ". Q . .\n",
      ". . . Q\n",
      "Q . . .\n",
      ". . Q .\n"
     ]
    }
   ],
   "source": [
    "def is_safe(board, row, col, n):\n",
    "    \"\"\"Check if placing a queen at board[row][col] is safe.\"\"\"\n",
    "    for i in range(row):\n",
    "        if board[i] == col or \\\n",
    "           board[i] - i == col - row or \\\n",
    "           board[i] + i == col + row:\n",
    "            return False\n",
    "    return True\n",
    "\n",
    "def solve_nqueens(board, row, n, solutions):\n",
    "    \"\"\"Backtracking function to place queens.\"\"\"\n",
    "    if row == n:\n",
    "        solutions.append(board[:]) \n",
    "        return\n",
    "\n",
    "    for col in range(n):\n",
    "        if is_safe(board, row, col, n):\n",
    "            board[row] = col\n",
    "            solve_nqueens(board, row + 1, n, solutions)\n",
    "            board[row] = -1  \n",
    "\n",
    "def print_solution(solution, n):\n",
    "    \"\"\"Print the solution in a chessboard format.\"\"\"\n",
    "    board_representation = []\n",
    "    for i in range(n):\n",
    "        row = ['.'] * n\n",
    "        row[solution[i]] = 'Q'\n",
    "        board_representation.append(\" \".join(row))\n",
    "    return \"\\n\".join(board_representation)\n",
    "\n",
    "def n_queens(n):\n",
    "    \"\"\"Solve the N-Queens problem for a given board size n.\"\"\"\n",
    "    board = [-1] * n\n",
    "    solutions = []\n",
    "    solve_nqueens(board, 0, n, solutions)\n",
    "\n",
    "    if solutions:\n",
    "        print(\"One valid solution:\")\n",
    "        print(print_solution(solutions[0], n))\n",
    "    else:\n",
    "        print(\"No solution exists.\")\n",
    "\n",
    "N = 4\n",
    "n_queens(N)\n"
   ]
  },
  {
   "cell_type": "markdown",
   "id": "3f27c798-9999-48d1-95b3-4140ca5514a1",
   "metadata": {},
   "source": [
    "## Question 4  Word Ladder problem using Breadth-First Search (BFS)"
   ]
  },
  {
   "cell_type": "code",
   "execution_count": 5,
   "id": "3e89a53d-8588-4a47-9314-4eb833543a1a",
   "metadata": {},
   "outputs": [
    {
     "name": "stdout",
     "output_type": "stream",
     "text": [
      "Shortest transformation sequence length: 5\n"
     ]
    }
   ],
   "source": [
    "from collections import deque\n",
    "\n",
    "def word_ladder(beginWord, endWord, wordList):\n",
    "    wordSet = set(wordList) \n",
    "    if endWord not in wordSet:\n",
    "        return 0  \n",
    "\n",
    "    queue = deque([(beginWord, 1)])  \n",
    "    \n",
    "    while queue:\n",
    "        word, steps = queue.popleft()\n",
    "\n",
    "        \n",
    "        if word == endWord:\n",
    "            return steps\n",
    "\n",
    "      \n",
    "        for i in range(len(word)):\n",
    "            for c in 'abcdefghijklmnopqrstuvwxyz':\n",
    "                transformed = word[:i] + c + word[i+1:]\n",
    "                if transformed in wordSet:\n",
    "                    queue.append((transformed, steps + 1))\n",
    "                    wordSet.remove(transformed)  \n",
    "\n",
    "    return 0  \n",
    "\n",
    "\n",
    "beginWord = \"hit\"\n",
    "endWord = \"cog\"\n",
    "wordList = [\"hot\", \"dot\", \"dog\", \"lot\", \"log\", \"cog\"]\n",
    "\n",
    "result = word_ladder(beginWord, endWord, wordList)\n",
    "print(\"Shortest transformation sequence length:\", result)\n"
   ]
  },
  {
   "cell_type": "markdown",
   "id": "071bdfd3-b61f-44c2-874d-284d1b546d8e",
   "metadata": {},
   "source": [
    "## Question 5 Median of Two Sorted Arrays"
   ]
  },
  {
   "cell_type": "code",
   "execution_count": 6,
   "id": "7757e972-9016-44be-a918-1ac8a6e714d4",
   "metadata": {},
   "outputs": [
    {
     "name": "stdout",
     "output_type": "stream",
     "text": [
      "Median: 2\n"
     ]
    }
   ],
   "source": [
    "def findMedianSortedArrays(nums1, nums2):\n",
    "    if len(nums1) > len(nums2):\n",
    "        nums1, nums2 = nums2, nums1\n",
    "\n",
    "    x, y = len(nums1), len(nums2)\n",
    "    low, high = 0, x\n",
    "\n",
    "    while low <= high:\n",
    "        partitionX = (low + high) // 2\n",
    "        partitionY = (x + y + 1) // 2 - partitionX\n",
    "\n",
    "       \n",
    "        maxLeftX = float('-inf') if partitionX == 0 else nums1[partitionX - 1]\n",
    "        minRightX = float('inf') if partitionX == x else nums1[partitionX]\n",
    "\n",
    "        \n",
    "        maxLeftY = float('-inf') if partitionY == 0 else nums2[partitionY - 1]\n",
    "        minRightY = float('inf') if partitionY == y else nums2[partitionY]\n",
    "\n",
    "        if maxLeftX <= minRightY and maxLeftY <= minRightX:\n",
    "           \n",
    "            if (x + y) % 2 == 0:\n",
    "                return (max(maxLeftX, maxLeftY) + min(minRightX, minRightY)) / 2\n",
    "            else:\n",
    "                return max(maxLeftX, maxLeftY)\n",
    "        \n",
    "        elif maxLeftX > minRightY:\n",
    "          \n",
    "            high = partitionX - 1\n",
    "        else:\n",
    "           \n",
    "            low = partitionX + 1\n",
    "\n",
    "    raise ValueError(\"Input arrays are not sorted correctly or are invalid\")\n",
    "\n",
    "\n",
    "nums1 = [1, 3]\n",
    "nums2 = [2]\n",
    "\n",
    "median = findMedianSortedArrays(nums1, nums2)\n",
    "print(\"Median:\", median)\n"
   ]
  },
  {
   "cell_type": "markdown",
   "id": "a83a241e-f68f-488a-bc1e-642e6a223d58",
   "metadata": {},
   "source": [
    "## Question 6 Graph Cycle Detection (Directed Graph)"
   ]
  },
  {
   "cell_type": "code",
   "execution_count": 1,
   "id": "17a89926-8bc7-4861-bf1c-ea5a2df04b35",
   "metadata": {},
   "outputs": [
    {
     "name": "stdout",
     "output_type": "stream",
     "text": [
      "Cycle detected: True\n"
     ]
    }
   ],
   "source": [
    "def has_cycle(graph):\n",
    "    def dfs(node):\n",
    "        \"\"\"Helper function to perform DFS and detect cycles.\"\"\"\n",
    "        if node in rec_stack:\n",
    "            return True  \n",
    "        \n",
    "        if node in visited:\n",
    "            return False \n",
    "\n",
    "        visited.add(node)\n",
    "        rec_stack.add(node)\n",
    "\n",
    "        for neighbor in graph.get(node, []):\n",
    "            if dfs(neighbor):\n",
    "                return True  \n",
    "\n",
    "        rec_stack.remove(node)  \n",
    "        return False\n",
    "\n",
    "    visited = set()\n",
    "    rec_stack = set()\n",
    "\n",
    "   \n",
    "    for node in graph:\n",
    "        if node not in visited:\n",
    "            if dfs(node):\n",
    "                return True\n",
    "\n",
    "    return False\n",
    "\n",
    "\n",
    "graph = {\n",
    "    0: [1],\n",
    "    1: [2],\n",
    "    2: [3],\n",
    "    3: [0] \n",
    "}\n",
    "\n",
    "print(\"Cycle detected:\", has_cycle(graph)) \n"
   ]
  },
  {
   "cell_type": "code",
   "execution_count": null,
   "id": "05351f78-5da0-4182-8186-3e63709fd0b4",
   "metadata": {},
   "outputs": [],
   "source": []
  }
 ],
 "metadata": {
  "kernelspec": {
   "display_name": "Python 3 (ipykernel)",
   "language": "python",
   "name": "python3"
  },
  "language_info": {
   "codemirror_mode": {
    "name": "ipython",
    "version": 3
   },
   "file_extension": ".py",
   "mimetype": "text/x-python",
   "name": "python",
   "nbconvert_exporter": "python",
   "pygments_lexer": "ipython3",
   "version": "3.12.7"
  }
 },
 "nbformat": 4,
 "nbformat_minor": 5
}
